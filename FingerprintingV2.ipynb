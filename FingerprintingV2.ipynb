{
  "cells": [
    {
      "attachments": {},
      "cell_type": "markdown",
      "metadata": {
        "id": "vEjNid7xsTT8"
      },
      "source": [
        "# Импорты"
      ]
    },
    {
      "cell_type": "code",
      "execution_count": null,
      "metadata": {
        "colab": {
          "base_uri": "https://localhost:8080/"
        },
        "id": "dJcU7gCbsY2q",
        "outputId": "c3f9e91f-3869-42ae-ecb1-520da176935e"
      },
      "outputs": [],
      "source": [
        "!pip install qiskit ipywidgets"
      ]
    },
    {
      "cell_type": "code",
      "execution_count": null,
      "metadata": {
        "id": "8F6mCCIxsTT9"
      },
      "outputs": [],
      "source": [
        "import numpy as np\n",
        "import psycopg2\n",
        "from qiskit import Aer\n",
        "import qiskit\n",
        "from qiskit import *\n",
        "from qiskit import QuantumCircuit, transpile, execute\n",
        "from qiskit.providers.aer import QasmSimulator\n",
        "from qiskit.visualization import array_to_latex\n",
        "from qiskit.quantum_info import Statevector\n",
        "from qiskit.visualization import plot_histogram, plot_state_city\n",
        "from qiskit import transpile\n",
        "from qiskit_aer import AerSimulator\n",
        "from qiskit.circuit.library.standard_gates import XGate\n",
        "from qiskit.circuit.library.standard_gates import RYGate\n",
        "import math as math\n",
        "import sys as sys\n",
        "import itertools\n",
        "from qiskit.visualization import plot_histogram"
      ]
    },
    {
      "attachments": {},
      "cell_type": "markdown",
      "metadata": {
        "id": "ExYXk9w9sTT9"
      },
      "source": [
        "# Абстракции"
      ]
    },
    {
      "cell_type": "code",
      "execution_count": null,
      "metadata": {
        "id": "uiYgJwT0sTT-"
      },
      "outputs": [],
      "source": [
        "get_bin = lambda x, n: format(x, 'b').zfill(n)\n",
        "get_bin_len = lambda x: len(format(x, 'b'))\n",
        "\n",
        "def get_combinations_bitwise(array):\n",
        "    sz = len(array)\n",
        "    all_combinations = []\n",
        "    for mask in range ((1<<sz)):\n",
        "        comb = []\n",
        "        for pos in range(sz):\n",
        "            if (mask & (1 << pos)):\n",
        "                comb.append(array[pos])\n",
        "        all_combinations.append(comb)\n",
        "    return list(map(lambda x: sum(x), all_combinations))"
      ]
    },
    {
      "cell_type": "code",
      "execution_count": null,
      "metadata": {
        "id": "_H59IM1WsTT-"
      },
      "outputs": [],
      "source": [
        "class CoefficientGenerator():\n",
        "    def __init__(self, n, t_log) -> None:\n",
        "        self.n = n\n",
        "        self.m = int(math.pow(2, self.n)) - 1\n",
        "        self.m_f = self.m + 1\n",
        "        self.t_log = t_log\n",
        "        self.t = int(math.pow(2, t_log))\n",
        "        self.e = 2*math.log(2*self.m_f)/self.t\n",
        "    \n",
        "    def calculate_formula(self, k_array, b):\n",
        "        return (1/math.pow(self.t, 2))*(math.pow(sum(math.cos((2*math.pi*int(k_i)*b)/self.m_f) for k_i in k_array), 2))\n",
        "\n",
        "    def analize_k(self, k_array):\n",
        "        return max(map(lambda b_i: self.calculate_formula(k_array, b_i),  range(1, self.m)))\n",
        "\n",
        "    def is_k_good(self, k_array):\n",
        "        return self.analize_k(k_array) < self.e\n",
        "    \n",
        "    def generate_good_k(self):\n",
        "        k = np.random.choice(list(range(1, self.m_f)), size=self.t)\n",
        "        while(self.is_k_good(k) == False):\n",
        "            k = np.random.choice(list(range(1, self.m_f)), size=self.t)\n",
        "\n",
        "        k_score = self.analize_k(k)\n",
        "        for i in range(1000):\n",
        "            test_k = np.random.choice(list(range(1, self.m_f)), size=self.t)\n",
        "            test_k_score = self.analize_k(test_k)\n",
        "            if(test_k_score < k_score):\n",
        "                k_score = test_k_score\n",
        "                k = test_k\n",
        "\n",
        "        return k\n",
        "\n",
        "    def is_d_good(self, d):\n",
        "        return self.is_k_good(get_combinations_bitwise(d))\n",
        "\n",
        "    def analize_d(self, d):\n",
        "        return self.analize_k(get_combinations_bitwise(d))\n",
        "    \n",
        "    def generate_good_d(self):\n",
        "        d = np.random.choice(list(range(1, self.m_f)), size=self.t_log)\n",
        "        while(self.is_d_good(d) == False):\n",
        "            d = np.random.choice(list(range(1, self.m_f)), size=self.t_log)\n",
        "\n",
        "        d_score = self.analize_d(d)\n",
        "        for i in range(1000):\n",
        "            d_test = np.random.choice(list(range(1, self.m_f)), size=self.t_log)\n",
        "            d_test_score = self.analize_d(d_test)\n",
        "            if(d_test_score < d_score):\n",
        "                d = d_test\n",
        "                d_score = d_test_score\n",
        "\n",
        "        return d"
      ]
    },
    {
      "cell_type": "code",
      "execution_count": null,
      "metadata": {
        "id": "btUTdeBksTT-"
      },
      "outputs": [],
      "source": [
        "class AnglesGenerator():\n",
        "    def __init__(self, number, t_log) -> None:\n",
        "        self.number = number\n",
        "        self.t_log = t_log\n",
        "        self.n = get_bin_len(number)\n",
        "        self.m = int(math.pow(2, self.n)) - 1\n",
        "        self.m_f = self.m + 1\n",
        "    \n",
        "    def __get_angle(self, k_i):\n",
        "        return (4*math.pi*k_i*self.number)/self.m_f\n",
        "    \n",
        "    def get_angles(self, coefficients):\n",
        "        return list(map(lambda x: self.__get_angle(x), coefficients))"
      ]
    },
    {
      "cell_type": "code",
      "execution_count": null,
      "metadata": {
        "id": "LuQoodJksTT_"
      },
      "outputs": [],
      "source": [
        "class Schema:\n",
        "    def __init__(self, qubits_number) -> None:\n",
        "        self.qubits_number = qubits_number\n",
        "        self.registers = QuantumRegister(qubits_number)\n",
        "        self.circuit = QuantumCircuit(self.registers)\n",
        "        self.t_log = self.qubits_number - 1\n",
        "    \n",
        "    def rotateY_last_qubit_full_control(self, angles, angle_multiplier = 1):\n",
        "        for i in range(len(angles)):\n",
        "            gate = RYGate(angle_multiplier * angles[i])\n",
        "            self.circuit.append(gate.control(self.t_log, ctrl_state=get_bin(i, self.t_log)), self.registers)\n",
        "    \n",
        "    def rotateY_last_qubit_one_qbit_control(self, angles):\n",
        "        for i in range(len(angles)):\n",
        "            gate = RYGate(angles[i])\n",
        "            self.circuit.append(gate.control(1), [i, self.t_log])\n",
        "    \n",
        "    def h_all_but_last_qubits(self):\n",
        "        for i in range(self.qubits_number-1):\n",
        "            self.circuit.h(i)\n",
        "    \n",
        "    def draw(self):\n",
        "        return self.circuit.draw()\n",
        "    \n",
        "    def measure(self):\n",
        "        self.circuit.measure_all()\n",
        "        simulator = Aer.get_backend('qasm_simulator')\n",
        "        job = execute(self.circuit, simulator, shots=100)\n",
        "        result = job.result()\n",
        "        counts = result.get_counts(self.circuit)\n",
        "        return plot_histogram(counts)\n",
        "    \n",
        "    def get_state(self):\n",
        "        simulator = Aer.get_backend('statevector_simulator')\n",
        "        job = execute(self.circuit, simulator, shots=1)\n",
        "        result = job.result()\n",
        "        return job_result.get_statevector(self.circuit)"
      ]
    },
    {
      "attachments": {},
      "cell_type": "markdown",
      "metadata": {
        "id": "wR3FLFm-sTT_"
      },
      "source": [
        "### Генерация обычной схемы"
      ]
    },
    {
      "cell_type": "code",
      "execution_count": null,
      "metadata": {
        "colab": {
          "base_uri": "https://localhost:8080/",
          "height": 694
        },
        "id": "RPOTgiWGsTT_",
        "outputId": "dd8b2842-73d4-4775-adfa-971752a18e1c"
      },
      "outputs": [],
      "source": [
        "usual_depth_coefficient_generator = CoefficientGenerator(get_bin_len(245), 4)\n",
        "usual_depth_angles_generator = AnglesGenerator(245, 4)\n",
        "usual_depth_schema = Schema(5)\n",
        "\n",
        "usual_depth_schema.h_all_but_last_qubits()\n",
        "usual_depth_schema.rotateY_last_qubit_full_control(usual_depth_angles_generator.get_angles(usual_depth_coefficient_generator.generate_good_k()))\n",
        "usual_depth_schema.draw()"
      ]
    },
    {
      "cell_type": "code",
      "execution_count": null,
      "metadata": {
        "colab": {
          "base_uri": "https://localhost:8080/",
          "height": 496
        },
        "id": "nYj0eJj2sTT_",
        "outputId": "c1017481-0360-4ad4-e8bb-5d45c5e1697a"
      },
      "outputs": [],
      "source": [
        "usual_depth_schema.measure()"
      ]
    },
    {
      "attachments": {},
      "cell_type": "markdown",
      "metadata": {
        "id": "QVg4X7R0sTUA"
      },
      "source": [
        "### Генерация схемы малой глубины"
      ]
    },
    {
      "cell_type": "code",
      "execution_count": null,
      "metadata": {
        "colab": {
          "base_uri": "https://localhost:8080/",
          "height": 186
        },
        "id": "yTH_hhdhsTUA",
        "outputId": "c0be95d3-e9ed-40e2-dc28-314af781cc95"
      },
      "outputs": [],
      "source": [
        "short_depth_coefficient_generator = CoefficientGenerator(get_bin_len(245), 4)\n",
        "short_depth_angles_generator = AnglesGenerator(245, 4)\n",
        "short_depth_schema = Schema(5)\n",
        "\n",
        "short_depth_schema.h_all_but_last_qubits()\n",
        "short_depth_schema.rotateY_last_qubit_one_qbit_control(short_depth_angles_generator.get_angles(short_depth_coefficient_generator.generate_good_d()))\n",
        "short_depth_schema.draw()"
      ]
    },
    {
      "cell_type": "code",
      "execution_count": null,
      "metadata": {
        "colab": {
          "base_uri": "https://localhost:8080/",
          "height": 496
        },
        "id": "sRRMZnUxsTUA",
        "outputId": "712aba6e-3b4e-4114-8a1c-3bbbde175023"
      },
      "outputs": [],
      "source": [
        "short_depth_schema.measure()"
      ]
    },
    {
      "attachments": {},
      "cell_type": "markdown",
      "metadata": {
        "id": "uyo0mUYasTUA"
      },
      "source": [
        "### Проверка работоспособности"
      ]
    },
    {
      "cell_type": "code",
      "execution_count": null,
      "metadata": {
        "colab": {
          "base_uri": "https://localhost:8080/",
          "height": 863
        },
        "id": "V_YVMCRvsTUA",
        "outputId": "5afb7b0f-66cd-4dfe-f9d7-738da9abfcc4"
      },
      "outputs": [],
      "source": [
        "short_depth_coefficient_generator = CoefficientGenerator(get_bin_len(245), 4)\n",
        "short_depth_angles_generator = AnglesGenerator(245, 4)\n",
        "short_depth_schema = Schema(5)\n",
        "good_d = short_depth_coefficient_generator.generate_good_d()\n",
        "\n",
        "short_depth_schema.h_all_but_last_qubits()\n",
        "short_depth_schema.rotateY_last_qubit_one_qbit_control(usual_depth_angles_generator.get_angles(good_d))\n",
        "short_depth_schema.rotateY_last_qubit_full_control(usual_depth_angles_generator.get_angles(get_combinations_bitwise(good_d)), angle_multiplier=-1)\n",
        "short_depth_schema.h_all_but_last_qubits()\n",
        "short_depth_schema.draw()"
      ]
    },
    {
      "cell_type": "code",
      "execution_count": null,
      "metadata": {
        "colab": {
          "base_uri": "https://localhost:8080/",
          "height": 495
        },
        "id": "g_l0-KJ7sTUA",
        "outputId": "83da6481-acc9-4fa2-fa80-d99dcdd79a94"
      },
      "outputs": [],
      "source": [
        "short_depth_schema.measure()"
      ]
    },
    {
      "attachments": {},
      "cell_type": "markdown",
      "metadata": {
        "id": "kBTZhh7YsTUA"
      },
      "source": [
        "### Сравнение алгоритмов"
      ]
    },
    {
      "cell_type": "code",
      "execution_count": null,
      "metadata": {
        "id": "h6QKr1IPsTUB"
      },
      "outputs": [],
      "source": [
        "def compare(input):\n",
        "    generator = CoefficientGenerator(input[0], input[1])\n",
        "    k = generator.generate_good_k()\n",
        "    d = generator.generate_good_d()\n",
        "    result = [generator.analize_k(k), generator.analize_d(d)]\n",
        "    return result"
      ]
    },
    {
      "cell_type": "code",
      "execution_count": null,
      "metadata": {},
      "outputs": [],
      "source": [
        "tests = []\n",
        "for i in range(1,11):\n",
        "    for j in range(1, i):\n",
        "        tests.append([i,j])\n",
        "\n",
        "tests"
      ]
    },
    {
      "cell_type": "code",
      "execution_count": null,
      "metadata": {},
      "outputs": [],
      "source": [
        "for test in tests:\n",
        "    result = compare(test)\n",
        "    print(f'{test}: {result}')"
      ]
    },
    {
      "attachments": {},
      "cell_type": "markdown",
      "metadata": {},
      "source": [
        "### Генерация всех схем"
      ]
    },
    {
      "attachments": {},
      "cell_type": "markdown",
      "metadata": {},
      "source": [
        "**Результаты прдставлены в этом репозитории**"
      ]
    },
    {
      "cell_type": "code",
      "execution_count": null,
      "metadata": {},
      "outputs": [],
      "source": [
        "conn = psycopg2.connect(\n",
        "            host=\"localhost\",\n",
        "            database=\"postgres\",\n",
        "            user=\"postgres\",\n",
        "            password=\"postgres\")\n",
        "cursor = conn.cursor()\n",
        "\n",
        "tests = [[5,3], [6, 4]]\n",
        "\n",
        "for test in tests:\n",
        "    generator = CoefficientGenerator(test[0], test[1])\n",
        "    all_d = list(itertools.combinations_with_replacement(range(1, generator.m_f), test[1]))\n",
        "    print(len(all_d))\n",
        "\n",
        "    for d_s in all_d:\n",
        "        d_k = generator.analize_d(d_s)\n",
        "        cursor.execute(f\"\"\"INSERT INTO d_test_results (bits_number, qubits_number, coefficients, result) VALUES ({test[0]}, {test[1]}, '{d_s}', {d_k})\"\"\")\n",
        "        conn.commit()\n",
        "\n",
        "cursor.close()\n",
        "conn.close()"
      ]
    },
    {
      "cell_type": "code",
      "execution_count": null,
      "metadata": {},
      "outputs": [],
      "source": [
        "conn = psycopg2.connect(\n",
        "            host=\"localhost\",\n",
        "            database=\"postgres\",\n",
        "            user=\"postgres\",\n",
        "            password=\"postgres\")\n",
        "cursor = conn.cursor()\n",
        "\n",
        "tests = [[5,3]]\n",
        "\n",
        "for test in tests:\n",
        "    generator = CoefficientGenerator(test[0], test[1])\n",
        "    all_k = list(itertools.combinations_with_replacement(range(1, generator.m_f), generator.t))\n",
        "    print(len(all_k))\n",
        "\n",
        "    for k_s in all_k:\n",
        "        k_k = generator.analize_k(k_s)\n",
        "        cursor.execute(f\"\"\"INSERT INTO k_test_results (bits_number, qubits_number, coefficients, result) VALUES ({test[0]}, {test[1]}, '{k_s}', {k_k})\"\"\")\n",
        "        conn.commit()\n",
        "\n",
        "cursor.close()\n",
        "conn.close()"
      ]
    }
  ],
  "metadata": {
    "colab": {
      "provenance": []
    },
    "kernelspec": {
      "display_name": "base",
      "language": "python",
      "name": "python3"
    },
    "language_info": {
      "codemirror_mode": {
        "name": "ipython",
        "version": 3
      },
      "file_extension": ".py",
      "mimetype": "text/x-python",
      "name": "python",
      "nbconvert_exporter": "python",
      "pygments_lexer": "ipython3",
      "version": "3.9.13"
    },
    "orig_nbformat": 4
  },
  "nbformat": 4,
  "nbformat_minor": 0
}
